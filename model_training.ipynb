{
 "cells": [
  {
   "cell_type": "code",
   "execution_count": 1,
   "metadata": {},
   "outputs": [],
   "source": [
    "import sys\n",
    "MODULE_FULL_PATH = './src/'\n",
    "sys.path.insert(1, MODULE_FULL_PATH)\n",
    "\n",
    "import os\n",
    "import tensorflow as tf\n",
    "import yaml\n",
    "from data_loader import load_data, preprocess \n",
    "from utils import ExpDecay, iterative_optimize\n",
    "from model import SchedulingModel\n",
    "from training import TrainingController\n",
    "import matplotlib.pyplot as plt\n",
    "import seaborn as sb\n",
    "import json"
   ]
  },
  {
   "cell_type": "code",
   "execution_count": 2,
   "metadata": {},
   "outputs": [
    {
     "name": "stdout",
     "output_type": "stream",
     "text": [
      "TF version 2.3.1\n"
     ]
    }
   ],
   "source": [
    "print('TF version {}'.format(tf.__version__))\n",
    "\n",
    "config_path = 'config.yaml'\n",
    "with open(config_path, 'r') as stream:\n",
    "    config_param = yaml.safe_load(stream)"
   ]
  },
  {
   "cell_type": "code",
   "execution_count": 3,
   "metadata": {},
   "outputs": [
    {
     "name": "stderr",
     "output_type": "stream",
     "text": [
      "100%|██████████| 5000/5000 [00:01<00:00, 4022.43it/s]\n",
      "100%|██████████| 5000/5000 [00:03<00:00, 1367.75it/s]\n"
     ]
    }
   ],
   "source": [
    "x, y = load_data(config_param.get('x_path'), config_param.get('y_path'))\n",
    "data_train, data_val, data_test, data_properties = preprocess(x, y, config_param.get('batch_size'), config_param.get('split'))"
   ]
  },
  {
   "cell_type": "code",
   "execution_count": 4,
   "metadata": {},
   "outputs": [],
   "source": [
    "lr = ExpDecay(initial_learning_rate=config_param.get('learning_rate'), k=0.0001)\n",
    "\n",
    "optimizer = tf.keras.optimizers.Adam(\n",
    "    learning_rate=lr,\n",
    "    beta_1=config_param.get('beta_1'),\n",
    "    beta_2=config_param.get('beta_2'),\n",
    "    epsilon=1e-6\n",
    ")"
   ]
  },
  {
   "cell_type": "code",
   "execution_count": 5,
   "metadata": {},
   "outputs": [
    {
     "name": "stdout",
     "output_type": "stream",
     "text": [
      "Model: \"functional_1\"\n",
      "__________________________________________________________________________________________________\n",
      "Layer (type)                    Output Shape         Param #     Connected to                     \n",
      "==================================================================================================\n",
      "in_jobs (InputLayer)            [(None, 9, 7)]       0                                            \n",
      "__________________________________________________________________________________________________\n",
      "in_machine_state (InputLayer)   [(None, 5)]          0                                            \n",
      "__________________________________________________________________________________________________\n",
      "in_enc_pad_mask (InputLayer)    [(None, 1, 1, 9)]    0                                            \n",
      "__________________________________________________________________________________________________\n",
      "scheduling_model (SchedulingMod ((None, 9), [(None,  26259841    in_jobs[0][0]                    \n",
      "                                                                 in_machine_state[0][0]           \n",
      "                                                                 in_enc_pad_mask[0][0]            \n",
      "==================================================================================================\n",
      "Total params: 26,259,841\n",
      "Trainable params: 26,259,841\n",
      "Non-trainable params: 0\n",
      "__________________________________________________________________________________________________\n"
     ]
    }
   ],
   "source": [
    "# Shape: (batch) x number of jobs x (pt + dd + st)\n",
    "job_queue = tf.keras.layers.Input([9, 7], name='in_jobs')\n",
    "machine_state = tf.keras.layers.Input([5], name='in_machine_state')\n",
    "enc_padding_mask = tf.keras.layers.Input([1, 1, 9], name='in_enc_pad_mask')\n",
    "\n",
    "output, [jq_emb, ms_emb], attn = SchedulingModel(\n",
    "    hidden_size=config_param.get('hidden_size'),\n",
    "    num_attention_heads=config_param.get('nb_attn_heads'),\n",
    "    ffn_size=config_param.get('ffn_size'),\n",
    "    dropout_rate=config_param.get('dropout_rate'),\n",
    "    epsilon=config_param.get('epsilon'),\n",
    "    num_machines=3,\n",
    ")([job_queue, machine_state, enc_padding_mask])\n",
    "\n",
    "model = tf.keras.models.Model(\n",
    "    inputs=[job_queue, machine_state, enc_padding_mask],\n",
    "    outputs=[output, [jq_emb, ms_emb], attn])\n",
    "\n",
    "model.summary()"
   ]
  },
  {
   "cell_type": "code",
   "execution_count": 6,
   "metadata": {},
   "outputs": [],
   "source": [
    "model_path = os.path.join(config_param.get('model_path'), 'model' + config_param.get('model_format'))\n",
    "model_config_path = os.path.join(config_param.get('model_path'), 'model_config.json')\n",
    "\n",
    "model.save(model_path, overwrite=True) \n",
    "\n",
    "with open(model_config_path, 'w+') as f:\n",
    "    json.dump(model.to_json(), f)"
   ]
  },
  {
   "cell_type": "code",
   "execution_count": 7,
   "metadata": {},
   "outputs": [
    {
     "data": {
      "image/png": "[encoded data removed]",
      "text/plain": [
       "<Figure size 1728x432 with 6 Axes>"
      ]
     },
     "metadata": {
      "needs_background": "light"
     },
     "output_type": "display_data"
    }
   ],
   "source": [
    "x_test_sample, y_test_sample = next(data_test)\n",
    "total_loss, grads, schedule, m, [jq_emb, ms_emb], attn = iterative_optimize(optimizer=optimizer,\n",
    "                                                                            model=model,\n",
    "                                                                            x=x_test_sample,\n",
    "                                                                            y_true=y_test_sample,\n",
    "                                                                            data_properties=data_properties,\n",
    "                                                                            training=False)\n",
    "\n",
    "fig, (ax1, ax2, ax3) = plt.subplots(1,3, figsize = (24, 6))\n",
    "\n",
    "sb.heatmap(schedule[0,0], ax=ax1)\n",
    "ax1.set_title(\"machine 0\")\n",
    "ax1.set_xlabel(\"time\")\n",
    "ax1.set_ylabel(\"jobs\")\n",
    "\n",
    "sb.heatmap(schedule[0,1], ax=ax2)\n",
    "ax2.set_title(\"machine 1\")\n",
    "ax2.set_xlabel(\"time\")\n",
    "ax2.set_ylabel(\"jobs\")\n",
    "\n",
    "sb.heatmap(schedule[0,2], ax=ax3)\n",
    "ax3.set_title(\"machine 2\")\n",
    "ax3.set_xlabel(\"time\")\n",
    "ax3.set_ylabel(\"jobs\")\n",
    "\n",
    "plt.show()"
   ]
  },
  {
   "cell_type": "code",
   "execution_count": 8,
   "metadata": {},
   "outputs": [
    {
     "name": "stdout",
     "output_type": "stream",
     "text": [
      "[Train] [E 1/1] [B 10/10] Loss: 2.421931505203247 Acc: 0.13402777910232544 Pre: 0.2171623706817627 Rec: 0.0068865744397044183\n",
      "[Valid] [E 0/0] [B 6/6] Loss: 2.220519781112671 Acc: 0.16898147761821747 Pre: 0.35227909684181213 Rec: 0.010031066834926605\n",
      "\n"
     ]
    }
   ],
   "source": [
    "spe_train = data_properties.get('train_size') // config_param[\"batch_size\"]\n",
    "spe_val = data_properties.get('val_size') // config_param[\"batch_size\"]\n",
    "spe_test = data_properties.get('test_size') // config_param[\"batch_size\"]\n",
    "spe_train = 10\n",
    "ckpt_path = os.path.join(config_param.get('checkpoint_path'), config_param.get(\"checkpoint_name\"))\n",
    "\n",
    "train_controller = TrainingController(\n",
    "    model=model,\n",
    "    optimizer=optimizer,\n",
    "    log_file_dir=config_param.get('log_path'),\n",
    "    data_properties=data_properties\n",
    ")\n",
    "train_controller.train(\n",
    "    train_data=data_train,\n",
    "    val_data=data_val,\n",
    "    epochs=config_param.get(\"epochs\"),\n",
    "    validation_steps=spe_val,\n",
    "    steps_per_epoch=spe_train,\n",
    "    checkpoint_path=ckpt_path\n",
    ")"
   ]
  },
  {
   "cell_type": "code",
   "execution_count": null,
   "metadata": {},
   "outputs": [],
   "source": []
  }
 ],
 "metadata": {
  "kernelspec": {
   "display_name": "Python 3",
   "language": "python",
   "name": "python3"
  },
  "language_info": {
   "codemirror_mode": {
    "name": "ipython",
    "version": 3
   },
   "file_extension": ".py",
   "mimetype": "text/x-python",
   "name": "python",
   "nbconvert_exporter": "python",
   "pygments_lexer": "ipython3",
   "version": "3.6.15"
  }
 },
 "nbformat": 4,
 "nbformat_minor": 4
}
